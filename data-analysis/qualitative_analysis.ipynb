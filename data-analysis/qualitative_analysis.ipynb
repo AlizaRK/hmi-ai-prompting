{
 "cells": [
  {
   "cell_type": "code",
   "execution_count": 6,
   "id": "9184b40a-0542-4ce8-b2c2-7c9099ae5d75",
   "metadata": {},
   "outputs": [],
   "source": [
    "import pandas as pd\n",
    "from scipy import stats\n",
    "import seaborn as sns\n",
    "import matplotlib.pyplot as plt\n",
    "import seaborn as sns\n",
    "import matplotlib.pyplot as plt\n",
    "from scipy.stats import chi2_contingency"
   ]
  },
  {
   "cell_type": "code",
   "execution_count": 7,
   "id": "89915eb4-7897-4d38-9998-4737013a2f0f",
   "metadata": {},
   "outputs": [],
   "source": [
    "df = pd.read_csv(\"./post_study_questions.csv\")\n",
    "participant = pd.read_csv('./participant.csv')"
   ]
  },
  {
   "cell_type": "code",
   "execution_count": 8,
   "id": "6419da7f-21ae-4859-8050-a29d337ded6c",
   "metadata": {},
   "outputs": [
    {
     "name": "stdout",
     "output_type": "stream",
     "text": [
      " id gender\n",
      "  1 female\n",
      "  3   male\n",
      "  5   male\n",
      "  8 female\n",
      " 11   male\n",
      " 14   male\n",
      " 17 female\n",
      " 22   male\n",
      " 24   male\n",
      " 31   male\n",
      " 32   male\n",
      " 33 female\n",
      " 38   male\n",
      " 39   male\n",
      " 42   male\n",
      " 43   male\n",
      " 46   male\n",
      " 47   male\n",
      " 50   male\n",
      " 51   male\n",
      " 54   male\n",
      " 55   male\n",
      " 58   male\n",
      " 59   male\n",
      " 61   male\n",
      " 62   male\n"
     ]
    }
   ],
   "source": [
    "ids = [1,3,5,8,11,14,17,22,24,31,33,32,38,39,42,43,46,47,50,51,54,55,58,59,61,62]\n",
    "\n",
    "participant = participant[participant['id'].isin(ids)]\n",
    "\n",
    "subset = participant[['id', 'gender']]\n",
    "print(subset.to_string(index=False))"
   ]
  },
  {
   "cell_type": "code",
   "execution_count": 9,
   "id": "15a9bf82-ff48-4056-811a-4b7de560bb6c",
   "metadata": {},
   "outputs": [],
   "source": [
    "# Merge gender into df\n",
    "df = df.merge(subset, on=\"id\", how=\"left\")"
   ]
  },
  {
   "cell_type": "code",
   "execution_count": 15,
   "id": "f869c2f3",
   "metadata": {},
   "outputs": [
    {
     "data": {
      "text/html": [
       "<div>\n",
       "<style scoped>\n",
       "    .dataframe tbody tr th:only-of-type {\n",
       "        vertical-align: middle;\n",
       "    }\n",
       "\n",
       "    .dataframe tbody tr th {\n",
       "        vertical-align: top;\n",
       "    }\n",
       "\n",
       "    .dataframe thead th {\n",
       "        text-align: right;\n",
       "    }\n",
       "</style>\n",
       "<table border=\"1\" class=\"dataframe\">\n",
       "  <thead>\n",
       "    <tr style=\"text-align: right;\">\n",
       "      <th></th>\n",
       "      <th>helpfulness</th>\n",
       "      <th>satisfaction</th>\n",
       "      <th>intent_alignment</th>\n",
       "      <th>trust</th>\n",
       "      <th>future_use</th>\n",
       "      <th>ai_importance</th>\n",
       "      <th>participant_id</th>\n",
       "      <th>id</th>\n",
       "      <th>gender</th>\n",
       "    </tr>\n",
       "  </thead>\n",
       "  <tbody>\n",
       "    <tr>\n",
       "      <th>0</th>\n",
       "      <td>4</td>\n",
       "      <td>4</td>\n",
       "      <td>5</td>\n",
       "      <td>4</td>\n",
       "      <td>4</td>\n",
       "      <td>4</td>\n",
       "      <td>1</td>\n",
       "      <td>1</td>\n",
       "      <td>female</td>\n",
       "    </tr>\n",
       "    <tr>\n",
       "      <th>1</th>\n",
       "      <td>4</td>\n",
       "      <td>3</td>\n",
       "      <td>4</td>\n",
       "      <td>3</td>\n",
       "      <td>4</td>\n",
       "      <td>4</td>\n",
       "      <td>3</td>\n",
       "      <td>2</td>\n",
       "      <td>NaN</td>\n",
       "    </tr>\n",
       "    <tr>\n",
       "      <th>2</th>\n",
       "      <td>5</td>\n",
       "      <td>4</td>\n",
       "      <td>4</td>\n",
       "      <td>3</td>\n",
       "      <td>4</td>\n",
       "      <td>4</td>\n",
       "      <td>5</td>\n",
       "      <td>3</td>\n",
       "      <td>male</td>\n",
       "    </tr>\n",
       "    <tr>\n",
       "      <th>3</th>\n",
       "      <td>1</td>\n",
       "      <td>1</td>\n",
       "      <td>2</td>\n",
       "      <td>2</td>\n",
       "      <td>2</td>\n",
       "      <td>3</td>\n",
       "      <td>8</td>\n",
       "      <td>4</td>\n",
       "      <td>NaN</td>\n",
       "    </tr>\n",
       "    <tr>\n",
       "      <th>4</th>\n",
       "      <td>4</td>\n",
       "      <td>5</td>\n",
       "      <td>5</td>\n",
       "      <td>4</td>\n",
       "      <td>4</td>\n",
       "      <td>5</td>\n",
       "      <td>11</td>\n",
       "      <td>5</td>\n",
       "      <td>male</td>\n",
       "    </tr>\n",
       "  </tbody>\n",
       "</table>\n",
       "</div>"
      ],
      "text/plain": [
       "   helpfulness  satisfaction  intent_alignment  trust  future_use  \\\n",
       "0            4             4                 5      4           4   \n",
       "1            4             3                 4      3           4   \n",
       "2            5             4                 4      3           4   \n",
       "3            1             1                 2      2           2   \n",
       "4            4             5                 5      4           4   \n",
       "\n",
       "   ai_importance  participant_id  id  gender  \n",
       "0              4               1   1  female  \n",
       "1              4               3   2     NaN  \n",
       "2              4               5   3    male  \n",
       "3              3               8   4     NaN  \n",
       "4              5              11   5    male  "
      ]
     },
     "execution_count": 15,
     "metadata": {},
     "output_type": "execute_result"
    }
   ],
   "source": [
    "df.head()"
   ]
  },
  {
   "cell_type": "code",
   "execution_count": 10,
   "id": "8bdec3a9-a6b0-48a8-92d0-6f1d69971935",
   "metadata": {},
   "outputs": [
    {
     "name": "stdout",
     "output_type": "stream",
     "text": [
      "Mann-Whitney U: 12.5 p-value: 0.39136593830755195\n"
     ]
    }
   ],
   "source": [
    "# 1.Perceived Helpfulness\n",
    "\n",
    "male_help = df[df['gender'] == 'male']['helpfulness']\n",
    "female_help = df[df['gender'] == 'female']['helpfulness']\n",
    "\n",
    "# A.1.Mann-Whitney U:\n",
    "u_stat, u_p = stats.mannwhitneyu(male_help, female_help, alternative='two-sided')\n",
    "print(\"Mann-Whitney U:\", u_stat, \"p-value:\", u_p)\n",
    "\n",
    "# U = 12.5\n",
    "# p = 0.391 #not significant\n"
   ]
  },
  {
   "cell_type": "code",
   "execution_count": 11,
   "id": "28c17dd8-7255-4872-aea1-9492370644a0",
   "metadata": {},
   "outputs": [
    {
     "name": "stdout",
     "output_type": "stream",
     "text": [
      "t-test: 1.1028219331407125 p-value: 0.3175573484663675\n",
      "Male mean: 4.166666666666667\n",
      "Female mean: 3.6666666666666665\n"
     ]
    }
   ],
   "source": [
    "# B.1.t-test: \n",
    "t_stat, t_p = stats.ttest_ind(male_help, female_help, equal_var=False)\n",
    "print(\"t-test:\", t_stat, \"p-value:\", t_p)\n",
    "\n",
    "# t = 1.10\n",
    "# p = 0.318 #not significant\n",
    "\n",
    "\n",
    "# Means: Male = 4.17, Female = 3.67\n",
    "print(\"Male mean:\", male_help.mean())\n",
    "print(\"Female mean:\", female_help.mean())\n",
    "\n",
    "# Male mean: 4.17\n",
    "# Female mean: 3.67\n"
   ]
  },
  {
   "cell_type": "code",
   "execution_count": 12,
   "id": "594b774c-2c4c-42c8-94df-0804a59a5aab",
   "metadata": {},
   "outputs": [
    {
     "name": "stderr",
     "output_type": "stream",
     "text": [
      "C:\\Users\\Aliza\\AppData\\Local\\Temp\\ipykernel_12484\\3674087240.py:3: FutureWarning: \n",
      "\n",
      "Passing `palette` without assigning `hue` is deprecated and will be removed in v0.14.0. Assign the `x` variable to `hue` and set `legend=False` for the same effect.\n",
      "\n",
      "  sns.boxplot(x='gender', y='helpfulness', data=df, palette=['pink','blue'])\n"
     ]
    },
    {
     "data": {
      "image/png": "[encoded data removed]",
      "text/plain": [
       "<Figure size 600x400 with 1 Axes>"
      ]
     },
     "metadata": {},
     "output_type": "display_data"
    }
   ],
   "source": [
    "# Boxplot\n",
    "plt.figure(figsize=(6,4))\n",
    "sns.boxplot(x='gender', y='helpfulness', data=df, palette=['pink','blue'])\n",
    "\n",
    "# Add mean values\n",
    "group_means = df.groupby('gender')['helpfulness'].mean()\n",
    "for i, (gender, mean_val) in enumerate(group_means.items()):\n",
    "    plt.text(i, mean_val + 0.1, f\"{mean_val:.2f}\", ha='center', color='black', weight='bold')\n",
    "\n",
    "plt.ylim(0,5)\n",
    "plt.title('Perceived Helpfulness by Gender')\n",
    "plt.ylabel('Helpfulness Score')\n",
    "plt.xlabel('Gender')\n",
    "\n",
    "plt.show()\n"
   ]
  },
  {
   "cell_type": "code",
   "execution_count": 84,
   "id": "cff0444d-6181-43b7-858a-000f01716407",
   "metadata": {},
   "outputs": [],
   "source": [
    "# Based on the results above we came to conclusion: \"No statistically significant gender difference in perceived helpfulness, while both of them \n",
    "# find the discussion with AI helpful\""
   ]
  },
  {
   "cell_type": "code",
   "execution_count": 14,
   "id": "bf2df38d-3b53-446d-8b59-a511abd1f3a6",
   "metadata": {},
   "outputs": [
    {
     "name": "stdout",
     "output_type": "stream",
     "text": [
      "Mann-Whitney U: 10.0 p-value: 0.8852339144732015\n"
     ]
    }
   ],
   "source": [
    "# 2.Satisfaction with Output\n",
    "\n",
    "male_satis = df[df['gender'] == 'male']['satisfaction']\n",
    "female_satis = df[df['gender'] == 'female']['satisfaction']\n",
    "\n",
    "# A.2.Mann-Whitney U:\n",
    "u_stat, u_p = stats.mannwhitneyu(male_satis, female_satis, alternative='two-sided')\n",
    "print(\"Mann-Whitney U:\", u_stat, \"p-value:\", u_p)\n",
    "\n",
    "# U = 10.0\n",
    "# p = 0.885 #not significant"
   ]
  },
  {
   "cell_type": "code",
   "execution_count": 16,
   "id": "d9fa7ebc-601e-4611-a741-2e77e3466aff",
   "metadata": {},
   "outputs": [
    {
     "name": "stdout",
     "output_type": "stream",
     "text": [
      "t-test: 0.36760731104690453 p-value: 0.7273659773942448\n",
      "Male mean: 3.8333333333333335\n",
      "Female mean: 3.6666666666666665\n"
     ]
    }
   ],
   "source": [
    "# B.2.t-test:\n",
    "t_stat, t_p = stats.ttest_ind(male_satis, female_satis, equal_var=False)\n",
    "print(\"t-test:\", t_stat, \"p-value:\", t_p)\n",
    "\n",
    "# t-test: t = 0.37\n",
    "# p = 0.727 #not significant\n",
    "\n",
    "print(\"Male mean:\", male_satis.mean())\n",
    "print(\"Female mean:\", female_satis.mean())\n",
    "\n",
    "# Male mean: 3.83\n",
    "# Female mean: 3.67\n"
   ]
  },
  {
   "cell_type": "code",
   "execution_count": 17,
   "id": "731204cb-fb46-41a7-932f-93d2385ad879",
   "metadata": {},
   "outputs": [
    {
     "name": "stderr",
     "output_type": "stream",
     "text": [
      "C:\\Users\\Aliza\\AppData\\Local\\Temp\\ipykernel_12484\\213649230.py:3: FutureWarning: \n",
      "\n",
      "Passing `palette` without assigning `hue` is deprecated and will be removed in v0.14.0. Assign the `x` variable to `hue` and set `legend=False` for the same effect.\n",
      "\n",
      "  sns.boxplot(x='gender', y='satisfaction', data=df, palette=['pink','blue'])\n"
     ]
    },
    {
     "data": {
      "image/png": "[encoded data removed]",
      "text/plain": [
       "<Figure size 600x400 with 1 Axes>"
      ]
     },
     "metadata": {},
     "output_type": "display_data"
    }
   ],
   "source": [
    "# Boxplot\n",
    "plt.figure(figsize=(6,4))\n",
    "sns.boxplot(x='gender', y='satisfaction', data=df, palette=['pink','blue'])\n",
    "\n",
    "# Add mean values\n",
    "group_means = df.groupby('gender')['satisfaction'].mean()\n",
    "for i, (gender, mean_val) in enumerate(group_means.items()):\n",
    "    plt.text(i, mean_val + 0.1, f\"{mean_val:.2f}\", ha='center', color='black', weight='bold')\n",
    "\n",
    "plt.ylim(0,5)\n",
    "plt.title('Perceived Satisfaction by Gender')\n",
    "plt.ylabel('Satisfaction Score')\n",
    "plt.xlabel('Gender')\n",
    "\n",
    "plt.show()"
   ]
  },
  {
   "cell_type": "code",
   "execution_count": 92,
   "id": "1d885430-3455-46b3-aee3-a0565de0194f",
   "metadata": {},
   "outputs": [],
   "source": [
    "# Based on the results above we came to conclusion: \"No statistically significant gender difference in perceived helpfulness, while both of them \n",
    "# find the discussion with AI helpful\""
   ]
  },
  {
   "cell_type": "code",
   "execution_count": 18,
   "id": "1a171feb-28e0-4a49-b483-a6212f717a96",
   "metadata": {},
   "outputs": [
    {
     "name": "stdout",
     "output_type": "stream",
     "text": [
      "Mann-Whitney U: 3.0 p-value: 0.10105025592540992\n"
     ]
    }
   ],
   "source": [
    "# 3. Trust in AI Response\n",
    "\n",
    "# A.3.Mann-Whitney U:\n",
    "male_trust = df[df['gender'] == 'male']['trust']\n",
    "female_turst = df[df['gender'] == 'female']['trust']\n",
    "\n",
    "u_stat, u_p = stats.mannwhitneyu(male_trust, female_turst, alternative='two-sided')\n",
    "print(\"Mann-Whitney U:\", u_stat, \"p-value:\", u_p)\n",
    "\n",
    "# U = 3.0,\n",
    "# p = 0.101 #not significant"
   ]
  },
  {
   "cell_type": "code",
   "execution_count": 19,
   "id": "cb0e1abd-4fc2-40c0-9c66-73c34c7a9237",
   "metadata": {},
   "outputs": [
    {
     "name": "stdout",
     "output_type": "stream",
     "text": [
      "t-test: -3.1622776601683786 p-value: 0.02503101581845297\n",
      "Male mean: 3.3333333333333335\n",
      "Female mean: 4.0\n"
     ]
    },
    {
     "name": "stderr",
     "output_type": "stream",
     "text": [
      "c:\\Users\\Aliza\\Documents\\HMI\\hmi-ai-prompting\\data-analysis\\.venv\\Lib\\site-packages\\scipy\\stats\\_axis_nan_policy.py:579: RuntimeWarning: Precision loss occurred in moment calculation due to catastrophic cancellation. This occurs when the data are nearly identical. Results may be unreliable.\n",
      "  res = hypotest_fun_out(*samples, **kwds)\n"
     ]
    }
   ],
   "source": [
    "# B.3.t-test:\n",
    "t_stat, t_p = stats.ttest_ind(male_trust, female_turst, equal_var=False)\n",
    "print(\"t-test:\", t_stat, \"p-value:\", t_p)\n",
    "\n",
    "# t-test: t = -3.2\n",
    "# p = 0.025 #significant\n",
    "\n",
    "print(\"Male mean:\", male_trust.mean())\n",
    "print(\"Female mean:\", female_turst.mean())\n",
    "\n",
    "# Male mean: 3.33\n",
    "# Female mean: 4.0"
   ]
  },
  {
   "cell_type": "code",
   "execution_count": 20,
   "id": "20710974-0d6c-47be-b25e-4e4e8f261047",
   "metadata": {},
   "outputs": [
    {
     "name": "stderr",
     "output_type": "stream",
     "text": [
      "C:\\Users\\Aliza\\AppData\\Local\\Temp\\ipykernel_12484\\2329095781.py:3: FutureWarning: \n",
      "\n",
      "Passing `palette` without assigning `hue` is deprecated and will be removed in v0.14.0. Assign the `x` variable to `hue` and set `legend=False` for the same effect.\n",
      "\n",
      "  sns.boxplot(x='gender', y='trust', data=df, palette=['pink','blue'])\n"
     ]
    },
    {
     "data": {
      "image/png": "[encoded data removed]",
      "text/plain": [
       "<Figure size 600x400 with 1 Axes>"
      ]
     },
     "metadata": {},
     "output_type": "display_data"
    }
   ],
   "source": [
    "# Boxplot\n",
    "plt.figure(figsize=(6,4))\n",
    "sns.boxplot(x='gender', y='trust', data=df, palette=['pink','blue'])\n",
    "\n",
    "# Add mean values\n",
    "group_means = df.groupby('gender')['trust'].mean()\n",
    "for i, (gender, mean_val) in enumerate(group_means.items()):\n",
    "    plt.text(i, mean_val + 0.1, f\"{mean_val:.2f}\", ha='center', color='black', weight='bold')\n",
    "\n",
    "plt.ylim(0,5)\n",
    "plt.title('Perceived Trust by Gender')\n",
    "plt.ylabel('Trust Score')\n",
    "plt.xlabel('Gender')\n",
    "\n",
    "plt.show()"
   ]
  },
  {
   "cell_type": "code",
   "execution_count": 100,
   "id": "090170d3-86bd-48ae-a5c4-07662d26bd80",
   "metadata": {},
   "outputs": [],
   "source": [
    "# Based on the results above we came to conclusion: \"Females reported higher trust in AI than males.\""
   ]
  },
  {
   "cell_type": "code",
   "execution_count": 21,
   "id": "956e8518-3c11-4896-8525-132d199d3f0f",
   "metadata": {},
   "outputs": [
    {
     "name": "stdout",
     "output_type": "stream",
     "text": [
      "Chi-square Test Results\n",
      "------------------------\n",
      "Chi² statistic : 2.25\n",
      "Degrees of freedom (df): 3\n",
      "p-value        : 0.522\n",
      "\n"
     ]
    }
   ],
   "source": [
    "# 4. AI Use Frequency\n",
    "\n",
    "# A.4.Chi - Sqaure:\n",
    "\n",
    "\n",
    "# Step 1: Build contingency table (future_use × gender)\n",
    "contingency_table = pd.crosstab(df['future_use'], df['gender'])\n",
    "\n",
    "# Step 2: Run Chi-square test\n",
    "chi2, p, dof, expected = chi2_contingency(contingency_table)\n",
    "\n",
    "# Step 3: Display results\n",
    "print(\"Chi-square Test Results\")\n",
    "print(\"------------------------\")\n",
    "print(f\"Chi² statistic : {chi2:.2f}\")\n",
    "print(f\"Degrees of freedom (df): {dof}\")\n",
    "print(f\"p-value        : {p:.3f}\\n\")\n"
   ]
  },
  {
   "cell_type": "code",
   "execution_count": null,
   "id": "9ec37554-1dbf-4d7d-8b1a-fc7fc09e53a6",
   "metadata": {},
   "outputs": [],
   "source": [
    "# Since Chi-square: χ² = 2.25, p = 0.522 (df = 3) → not significant, we can say No significant gender difference in intended future AI use."
   ]
  }
 ],
 "metadata": {
  "kernelspec": {
   "display_name": ".venv",
   "language": "python",
   "name": "python3"
  },
  "language_info": {
   "codemirror_mode": {
    "name": "ipython",
    "version": 3
   },
   "file_extension": ".py",
   "mimetype": "text/x-python",
   "name": "python",
   "nbconvert_exporter": "python",
   "pygments_lexer": "ipython3",
   "version": "3.13.7"
  }
 },
 "nbformat": 4,
 "nbformat_minor": 5
}
